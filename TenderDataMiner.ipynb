{
 "cells": [
  {
   "cell_type": "code",
   "execution_count": 64,
   "metadata": {
    "collapsed": true
   },
   "outputs": [],
   "source": [
    "from bs4 import BeautifulSoup\n",
    "import requests\n",
    "import csv\n",
    "from datetime import date\n",
    "\n",
    "#tender platform url, keyword is set manualy for now\n",
    "url = \"https://smarttender.biz/publichni-zakupivli-prozorro/search=\"\n",
    "headers = {'User-Agent':'Mozilla/5.0'}"
   ]
  },
  {
   "cell_type": "code",
   "execution_count": 65,
   "metadata": {
    "collapsed": true
   },
   "outputs": [],
   "source": [
    "def pageFinder(url, headers, key):\n",
    "\n",
    "\t''' Getting web source and finding out how many pages are there '''\n",
    "\n",
    "\t#get raw smarttender page\n",
    "\twebPage = requests.get(url+key, headers=headers)\n",
    "\n",
    "\t#create object to parse web page\n",
    "\tsoup = BeautifulSoup(webPage.text, \"html.parser\")\n",
    "\n",
    "\t#finding page links and count of pages\n",
    "\treturn soup.find('div', attrs = {'id' : 'MainContent_MainContent_MainContent_Pager'}).get_text().strip()"
   ]
  },
  {
   "cell_type": "code",
   "execution_count": 66,
   "metadata": {},
   "outputs": [
    {
     "name": "stdout",
     "output_type": "stream",
     "text": [
      "1234\n"
     ]
    }
   ],
   "source": [
    "key = 'інтернет'\n",
    "pages = pageFinder(url, headers, key)\n",
    "print(pages)"
   ]
  },
  {
   "cell_type": "code",
   "execution_count": 67,
   "metadata": {},
   "outputs": [
    {
     "name": "stdout",
     "output_type": "stream",
     "text": [
      "https://smarttender.biz/publichni-zakupivli-prozorro/search=інтернет?p=1\n"
     ]
    }
   ],
   "source": [
    "#parse all pages in search result\n",
    "#for page in pages:\n",
    "    \n",
    "#create link with current page number\n",
    "webPage = requests.get(url+key+f'?p={pages[0]}', headers=headers)\n",
    "\n",
    "print(url+key+f'?p={pages[0]}')"
   ]
  },
  {
   "cell_type": "code",
   "execution_count": 68,
   "metadata": {
    "collapsed": true
   },
   "outputs": [],
   "source": [
    "#soup objct to parse web page\n",
    "soup = BeautifulSoup(webPage.text, 'html.parser')\n",
    "\n",
    "#find tender data div (with all needed data)\n",
    "tenders = soup.find('div', class_ = 'tenders')\n",
    "#print(tenders.prettify())"
   ]
  },
  {
   "cell_type": "code",
   "execution_count": 69,
   "metadata": {
    "scrolled": false
   },
   "outputs": [],
   "source": [
    "#List of tenderDict on current page\n",
    "tenderList = []\n",
    "\n",
    "headOfTable = tenders.find('tr', class_ = \"head\")\n",
    "\n",
    "#tender deadline\n",
    "timeStartEnd = []\n",
    "deadlines = headOfTable.find('td', class_ =\"col6\")\n",
    "for deadline in deadlines.find_all('div'):\n",
    "    timeStartEnd.append(deadline.get_text().strip())\n",
    "\n",
    "#tender number\n",
    "tenderNumber = headOfTable.find('td', class_ = 'col1').get_text().strip()\n",
    "\n",
    "#tender details\n",
    "tenderPageLink = headOfTable.find('a', class_ = 'linkSubjTrading')['href']\n",
    "\n",
    "#tender name\n",
    "tenderName = headOfTable.find('a', class_ = 'linkSubjTrading').get_text().strip()\n",
    "\n",
    "#tender price\n",
    "tenderPrice = headOfTable.find('span', class_ = \"InitRate\").get_text().strip()\n",
    "\n",
    "#tender host\n",
    "tenderOwner = headOfTable.find('a', class_ =\"organizer-popover\").get_text().strip()\n",
    "\n",
    "#tender owner details\n",
    "tenderOwnerAcc = headOfTable.find('div', class_ = \"hidden\").get_text().strip() + ' https://smarttender.biz' + headOfTable.find('a', class_ = \"organizer-popover\", target=\"_blank\")['href']\n",
    "\n",
    "#     #tender status\n",
    "#     tenderStatus = headOfTable.find('td', class_ =\"col5\", id= \"MainContent_MainContent_MainContent__tenders_TenderStateCell_0\").get_text()\n",
    "\n",
    "#tender uploaded\n",
    "tenderStart = timeStartEnd[0]\n",
    "\n",
    "#submit till\n",
    "tenderEnd = timeStartEnd[1]\n",
    "\n",
    "#Dict with tender infocrmation\n",
    "tender = {\n",
    "    'tenderNumber': int(tenderNumber),\n",
    "    'tenderPageLink': tenderPageLink,\n",
    "    'tenderName' : tenderName,\n",
    "    'tenderPrice' : tenderPrice,\n",
    "    'tenderOwner' : tenderOwner,\n",
    "    'tenderOwnerAcc' : tenderOwnerAcc,\n",
    "    'tenderStart' : tenderStart,\n",
    "    'tenderEnd' : tenderEnd\n",
    "}\n",
    "\n",
    "tenderList.append(tender)\n",
    "    \n",
    "# for tender in tenderList:\n",
    "#     print(tender['tenderStart'])\n",
    "#     print(tender['tenderEnd'])\n",
    "#     print(tender['tenderPageLink'])\n",
    "#     print(tender['tenderName'])\n",
    "#     print(tender['tenderPrice'])\n",
    "#     print(tender['tenderOwner'])\n",
    "#     print(tender['tenderOwnerAcc'])\n",
    "#     print('============================================================')\n",
    "    \n",
    "# print(f'{tenderNumber}\\n{tenderPageLink}\\n{tenderName}\\n{tenderPrice}\\n{tenderOwner}\\n{tenderOwnerAcc}\\n{tenderStart}\\n{tenderEnd}\\n\\n')\n",
    "# for tnd in tenders.find_all('tr', class_ = \"head\"):\n",
    "#     print(tnd.find('td', class_ = 'col1').get_text().strip()) #tender number\n",
    "#     print(tnd.find('a', class_ = 'linkSubjTrading')['href']) #tender details\n",
    "#     print(tnd.find('a', class_ = 'linkSubjTrading').get_text().strip()) #tender name\n",
    "#     print(tnd.find('span', class_ = \"InitRate\").get_text().strip()) #tender price\n",
    "#     print(tnd.find('a', class_ =\"organizer-popover\").get_text().strip()) #tender host\n",
    "#     print(tnd.find('div', class_ = \"hidden\").get_text().strip() + ' https://smarttender.biz' + headOfTable.find('a', class_ = \"organizer-popover\", target=\"_blank\")['href']) #tender owner details\n",
    "#     #print(tnd.find('td', class_ =\"col5\", id= \"MainContent_MainContent_MainContent__tenders_TenderStateCell_0\").get_text().strip()) #tender status\n",
    "#     print(timeStartEnd[0])\n",
    "#     print(timeStartEnd[1])\n",
    "#     print('=====================================================================================================')\n",
    "#     print()\n",
    "# print(headOfTable.prettify())\n",
    "# print(tenderPageLink)\n"
   ]
  },
  {
   "cell_type": "code",
   "execution_count": 70,
   "metadata": {
    "collapsed": true
   },
   "outputs": [],
   "source": [
    "today = date.today()\n",
    "\n",
    "with open(f'output-{today}.csv', 'w') as csvfile:\n",
    "    csvWriter = csv.writer(csvfile)\n",
    "    csvWriter.writerow(['Норем тендеру', 'Дата публікації', 'Дата подачі пропозицій', 'Назва', 'Компанія', 'Контакти', 'Вартість', 'Посилання'])\n",
    "    for tender in tenderList:\n",
    "        csvWriter.writerow([tender['tenderNumber'], tender['tenderStart'], tender['tenderEnd'], tender['tenderName'], tender['tenderOwner'],tender['tenderOwnerAcc'],tender['tenderPrice'], tender['tenderPageLink']])"
   ]
  },
  {
   "cell_type": "code",
   "execution_count": 95,
   "metadata": {
    "scrolled": true
   },
   "outputs": [
    {
     "name": "stdout",
     "output_type": "stream",
     "text": [
      "39958500\n"
     ]
    }
   ],
   "source": [
    "def getOwnerID(url, headers):\n",
    "    \n",
    "    ownerPage = requests.get(url, headers=headers)\n",
    "    soup = BeautifulSoup(ownerPage.text, \"html.parser\")  \n",
    "    detailedOwnerPage = requests.get('https://Smarttender.biz' + soup.find('iframe')['src'], headers=headers)\n",
    "    soup2 = BeautifulSoup(detailedOwnerPage.text, \"html.parser\")\n",
    "    return int(soup2.find('span', class_ = \"info_usreou\").get_text())\n",
    "    \n",
    "print(getOwnerID(tender['tenderPageLink'], headers))"
   ]
  }
 ],
 "metadata": {
  "kernelspec": {
   "display_name": "Python 3",
   "language": "python",
   "name": "python3"
  },
  "language_info": {
   "codemirror_mode": {
    "name": "ipython",
    "version": 3
   },
   "file_extension": ".py",
   "mimetype": "text/x-python",
   "name": "python",
   "nbconvert_exporter": "python",
   "pygments_lexer": "ipython3",
   "version": "3.6.3"
  }
 },
 "nbformat": 4,
 "nbformat_minor": 2
}
