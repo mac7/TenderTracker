{
 "cells": [
  {
   "cell_type": "code",
   "execution_count": 35,
   "metadata": {
    "collapsed": true
   },
   "outputs": [],
   "source": [
    "from bs4 import BeautifulSoup\n",
    "import requests\n",
    "\n",
    "#tender platform url, keyword is set manualy for now\n",
    "url = \"https://smarttender.biz/publichni-zakupivli-prozorro/search=\"\n",
    "headers = {'User-Agent':'Mozilla/5.0'}"
   ]
  },
  {
   "cell_type": "code",
   "execution_count": 36,
   "metadata": {
    "collapsed": true
   },
   "outputs": [],
   "source": [
    "def pageFinder(url, headers, key):\n",
    "\n",
    "\t''' Getting web source and finding out how many pages are there '''\n",
    "\n",
    "\t#get raw smarttender page\n",
    "\twebPage = requests.get(url+key, headers=headers)\n",
    "\n",
    "\t#create object to parse web page\n",
    "\tsoup = BeautifulSoup(webPage.text, \"html.parser\")\n",
    "\n",
    "\t#finding page links and count of pages\n",
    "\treturn soup.find('div', attrs = {'id' : 'MainContent_MainContent_MainContent_Pager'}).get_text().strip()"
   ]
  },
  {
   "cell_type": "code",
   "execution_count": 37,
   "metadata": {},
   "outputs": [
    {
     "name": "stdout",
     "output_type": "stream",
     "text": [
      "1234\n"
     ]
    }
   ],
   "source": [
    "key = 'інтернет'\n",
    "pages = pageFinder(url, headers, key)\n",
    "print(pages)"
   ]
  },
  {
   "cell_type": "code",
   "execution_count": 38,
   "metadata": {},
   "outputs": [
    {
     "name": "stdout",
     "output_type": "stream",
     "text": [
      "https://smarttender.biz/publichni-zakupivli-prozorro/search=інтернет?p=1\n"
     ]
    }
   ],
   "source": [
    "#parse all pages in search result\n",
    "#for page in pages:\n",
    "    \n",
    "#create link with current page number\n",
    "webPage = requests.get(url+key+f'?p={pages[0]}', headers=headers)\n",
    "\n",
    "print(url+key+f'?p={pages[0]}')"
   ]
  },
  {
   "cell_type": "code",
   "execution_count": 39,
   "metadata": {},
   "outputs": [],
   "source": [
    "#soup objct to parse web page\n",
    "soup = BeautifulSoup(webPage.text, 'html.parser')\n",
    "\n",
    "#find tender data div (with all needed data)\n",
    "tenders = soup.find('div', class_ = 'tenders')\n",
    "#print(tenders.prettify())"
   ]
  },
  {
   "cell_type": "code",
   "execution_count": 60,
   "metadata": {},
   "outputs": [
    {
     "name": "stdout",
     "output_type": "stream",
     "text": [
      "\n",
      "2000615\n",
      "\n",
      "\n",
      "https://Smarttender.biz/publichni-zakupivli-prozorro/3253465/\n",
      "\n",
      "ДК 021:2015-72411000-4 Постачальники інтернет-послуг (Послуги доступу до міжнародної комп’ютерної мережі )\n",
      "\n",
      "384 000 грн. з ПДВ\n",
      "\n",
      "Державне підприємство \"СЕТАМ\" Міністерства юстиції України\n",
      "\n",
      "Контактна особа\n",
      "Глущенко Валерій Володимирович\n",
      "380442239702\n",
      "v.v.glushchenko@setam.net.ua\n",
      "01025, Україна, Київська обл., Київ, вул.Стрілецька, 4-6\n",
      "Веб сайт: \r\n",
      "\t\t\t\t\t\t\t\t\t\t\t\t     \n",
      "\n",
      "\n",
      "Всі тендери організатора https://smarttender.biz/publichni-zakupivli-prozorro/derzhavne-pdprimstvo-setam-mnsterstva-yustits-ukrani/\n",
      "\n",
      "Прийом пропозицій\n",
      "\n",
      "Опубліковано: 23.01.2018\n",
      "\n",
      "Прийом пропозицій до: 07.02.2018 17:00\n"
     ]
    }
   ],
   "source": [
    "headOfTable = tenders.find('tr', class_ = \"head\")\n",
    "\n",
    "#tender number\n",
    "tenderNumber = headOfTable.find('td', class_ = 'col1').get_text()\n",
    "\n",
    "#tender details\n",
    "tenderPageLink = headOfTable.find('a', class_ = 'linkSubjTrading')['href']\n",
    "\n",
    "#tender name\n",
    "tenderName = headOfTable.find('a', class_ = 'linkSubjTrading').get_text()\n",
    "\n",
    "#tender price\n",
    "tenderPrice = headOfTable.find('span', class_ = \"InitRate\").get_text()\n",
    "\n",
    "#tender host\n",
    "tenderOwner = headOfTable.find('a', class_ =\"organizer-popover\").get_text()\n",
    "\n",
    "#tender owner details\n",
    "tenderOwnerAcc = headOfTable.find('div', class_ = \"hidden\").get_text().strip() + ' https://smarttender.biz' + headOfTable.find('a', class_ = \"organizer-popover\", target=\"_blank\")['href']\n",
    "\n",
    "#tender status\n",
    "tenderStatus = headOfTable.find('td', class_ =\"col5\", id= \"MainContent_MainContent_MainContent__tenders_TenderStateCell_0\").get_text()\n",
    "\n",
    "#tender deadline\n",
    "timeStartEnd = []\n",
    "deadlines = headOfTable.find('td', class_ =\"col6\")\n",
    "for deadline in deadlines.find_all('div'):\n",
    "    timeStartEnd.append(deadline.get_text())\n",
    "\n",
    "#tender uploaded\n",
    "tenderStart = timeStartEnd[0]\n",
    "\n",
    "#submit till\n",
    "tenderEnd = timeStartEnd[1]\n",
    "\n",
    "print(f'{tenderNumber}\\n\\n{tenderPageLink}\\n\\n{tenderName}\\n\\n{tenderPrice}\\n\\n{tenderOwner}\\n\\n{tenderOwnerAcc}\\n\\n{tenderStatus}\\n\\n{tenderStart}\\n\\n{tenderEnd}')"
   ]
  }
 ],
 "metadata": {
  "kernelspec": {
   "display_name": "Python 3",
   "language": "python",
   "name": "python3"
  },
  "language_info": {
   "codemirror_mode": {
    "name": "ipython",
    "version": 3
   },
   "file_extension": ".py",
   "mimetype": "text/x-python",
   "name": "python",
   "nbconvert_exporter": "python",
   "pygments_lexer": "ipython3",
   "version": "3.6.3"
  }
 },
 "nbformat": 4,
 "nbformat_minor": 2
}
