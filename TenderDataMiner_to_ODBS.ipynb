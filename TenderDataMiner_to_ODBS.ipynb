{
 "cells": [
  {
   "cell_type": "code",
   "execution_count": 125,
   "metadata": {},
   "outputs": [
    {
     "name": "stdout",
     "output_type": "stream",
     "text": [
      "[('c0a8f865161d768ec52100000f1fbc28',\n",
      "  1233,\n",
      "  datetime.datetime(2018, 1, 23, 0, 0),\n",
      "  datetime.datetime(2018, 2, 7, 0, 0),\n",
      "  'Auchtung',\n",
      "  'host_tender_value',\n",
      "  '12345678',\n",
      "  123456.0,\n",
      "  'https//:foo.bar',\n",
      "  datetime.datetime(2018, 2, 27, 15, 17, 13),\n",
      "  None,\n",
      "  None)]\n"
     ]
    }
   ],
   "source": [
    "import cx_Oracle\n",
    "import json\n",
    "from pprint import pprint\n",
    "from datetime import datetime\n",
    "\n",
    "server = json.load(open('credentials'))\n",
    "conndata = f\"{server['user']}/{server['pass']}@{server['ip']}:{server['port']}/{server['SID']}\"\n",
    "\n",
    "start_date = 'Опубліковано: 23.01.2018'\n",
    "end_date = 'Прийом пропозицій до: 07.02.2018 17:00'\n",
    "\n",
    "_start_date = start_date.split(' ')[-1]\n",
    "_end_date =  end_date.split(' ')[-2]\n",
    "_name_tender = 'Auchtung'\n",
    "_id = 1233\n",
    "\n",
    "#'/'.join(end_date.split(' ')[-1].split(' ')[0].split('.')[:2])+ '/' + end_date.split(' ')[-1].split(' ')[0].split('.')[-1][:4]\n",
    "#dd/mm/rrrr 24hh:mi:ss\n",
    "\n",
    "\n",
    "db = None\n",
    "try:\n",
    "    db = cx_Oracle.connect(conndata)\n",
    "\n",
    "    try:\n",
    "        curs = db.cursor()\n",
    "        curs.execute(f\"\"\"INSERT INTO {server['table']}(id_tender, name_tender, host_tender, edrpou, price, link_tender, dt_start, dt_end) \n",
    "                         VALUES ({_id}, '{_name_tender}', 'host_tender_value', 12345678, 123456.00, 'https//:foo.bar', TO_DATE('{_start_date}', 'DD.MM.YYYY'), TO_DATE('{_end_date}', 'DD.MM.YYYY'))\"\"\")\n",
    "        curs.execute(f\"SELECT * FROM {server['table']}\")\n",
    "        pprint(curs.fetchall())\n",
    "    finally:\n",
    "        curs.close()\n",
    "finally:\n",
    "    if db is not None:\n",
    "        db.close()\n",
    "\n",
    "# {server['']}\n",
    "# f\"INSERT INTO {server[\"table\"]}(id_tender, dt_start, dt_end, name_tender, host_tender, edrpou, price, link_tender) VALUES ( 1, {date.today()}, {date.today()}, {server['user']}, {server['user']}, 1, 1, {server['user']})\"\n",
    "#        curs.execute(f\"INSERT INTO {server['table']}(id_tender, dt_start, dt_end, name_tender, host_tender, edrpou, price, link_tender) VALUES ( 1, {date.today()}, {date.today()}, {server['user']}, {server['user']}, 1, 1, {server['user']})\")\n",
    "# dt_start = datetime.strptime('2018-02-27', '%Y-%m-%d').strftime('%Y-%m-%d')\n",
    "# dt_end = datetime.strptime('2018-02-27', '%Y-%m-%d').strftime('%Y-%m-%d')"
   ]
  }
 ],
 "metadata": {
  "kernelspec": {
   "display_name": "Python 3",
   "language": "python",
   "name": "python3"
  },
  "language_info": {
   "codemirror_mode": {
    "name": "ipython",
    "version": 3
   },
   "file_extension": ".py",
   "mimetype": "text/x-python",
   "name": "python",
   "nbconvert_exporter": "python",
   "pygments_lexer": "ipython3",
   "version": "3.6.3"
  }
 },
 "nbformat": 4,
 "nbformat_minor": 2
}
